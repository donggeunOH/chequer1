{
 "cells": [
  {
   "cell_type": "code",
   "execution_count": 122,
   "metadata": {},
   "outputs": [],
   "source": [
    "import pandas as pd\n",
    "file_path = 'chequer/python-data-analysis-master/python-data-analysis-master/data/chipotle.tsv'\n",
    "chipo = pd.read_csv(file_path, sep = '\\t')\n",
    "chipo['order_id']=chipo['order_id'].astype(str) # order_id-> str type"
   ]
  },
  {
   "cell_type": "code",
   "execution_count": 123,
   "metadata": {},
   "outputs": [],
   "source": [
    "chipo['item_price']=chipo['item_price'].apply(lambda x: float(x[1: ]))"
   ]
  },
  {
   "cell_type": "code",
   "execution_count": 124,
   "metadata": {},
   "outputs": [
    {
     "name": "stdout",
     "output_type": "stream",
     "text": [
      "주문당 평균 계산금액: 18.811428571428568\n"
     ]
    }
   ],
   "source": [
    "priceforid=chipo['item_price'].groupby(chipo['order_id']).sum()\n",
    "print('주문당 평균 계산금액:',priceforid.mean())"
   ]
  },
  {
   "cell_type": "code",
   "execution_count": 132,
   "metadata": {},
   "outputs": [
    {
     "name": "stdout",
     "output_type": "stream",
     "text": [
      "한 주문에 10달러 이상 사용한 주문번호: ['1' '10' '100' ... '997' '998' '999']\n"
     ]
    }
   ],
   "source": [
    "orderforid=chipo.groupby(chipo['order_id']).sum()\n",
    "results = orderforid[orderforid.item_price >= 10]\n",
    "print('한 주문에 10달러 이상 사용한 주문번호:',results.index.values)"
   ]
  },
  {
   "cell_type": "code",
   "execution_count": 146,
   "metadata": {},
   "outputs": [
    {
     "name": "stdout",
     "output_type": "stream",
     "text": [
      "가장 비싼 주문: \n",
      "           quantity  item_price\n",
      "order_id                      \n",
      "926             23      205.25\n"
     ]
    }
   ],
   "source": [
    "print('가장 비싼 주문: \\n',orderforid.sort_values(by='item_price', ascending=False,kind='mergesort')[:1])"
   ]
  },
  {
   "cell_type": "code",
   "execution_count": 121,
   "metadata": {},
   "outputs": [
    {
     "name": "stdout",
     "output_type": "stream",
     "text": [
      "Veggie Salad Bowl이 주문된 횟수 18\n"
     ]
    }
   ],
   "source": [
    "salad = chipo[chipo['item_name'] == 'Veggie Salad Bowl']\n",
    "print('Veggie Salad Bowl이 주문된 횟수',len(salad))"
   ]
  },
  {
   "cell_type": "code",
   "execution_count": 148,
   "metadata": {},
   "outputs": [
    {
     "name": "stdout",
     "output_type": "stream",
     "text": [
      "chicken bowl을 2개 이상 주문한 횟수: 114\n"
     ]
    }
   ],
   "source": [
    "chicken=chipo[chipo['item_name']=='Chicken Bowl']\n",
    "ordersum_chicken=chicken.groupby(chicken['order_id']).sum()['quantity']\n",
    "chicken_morethan2=ordersum_chicken[ordersum_chicken>=2]\n",
    "print('chicken bowl을 2개 이상 주문한 횟수:',len(chicken_morethan2))"
   ]
  },
  {
   "cell_type": "code",
   "execution_count": 149,
   "metadata": {},
   "outputs": [
    {
     "name": "stdout",
     "output_type": "stream",
     "text": [
      "chicken bowl을 2개 이상 주문한 횟수: 114\n"
     ]
    }
   ],
   "source": [
    "#이렇게도 가능하더군요\n",
    "chicken=chipo[chipo['item_name']=='Chicken Bowl']\n",
    "ordersum_chicken=chicken.groupby(chicken['order_id']).sum()\n",
    "chicken_morethan2=ordersum_chicken[ordersum_chicken.quantity>=2]\n",
    "print('chicken bowl을 2개 이상 주문한 횟수:',len(chicken_morethan2))"
   ]
  }
 ],
 "metadata": {
  "kernelspec": {
   "display_name": "Python 3",
   "language": "python",
   "name": "python3"
  },
  "language_info": {
   "codemirror_mode": {
    "name": "ipython",
    "version": 3
   },
   "file_extension": ".py",
   "mimetype": "text/x-python",
   "name": "python",
   "nbconvert_exporter": "python",
   "pygments_lexer": "ipython3",
   "version": "3.8.2"
  }
 },
 "nbformat": 4,
 "nbformat_minor": 4
}
